{
 "cells": [
  {
   "attachments": {},
   "cell_type": "markdown",
   "metadata": {},
   "source": [
    "# Employing Custom System Models on EdgeSimPy Simulations\n",
    "\n",
    "EdgeSimPy ships several built-in system models representing user mobility ([Pathway](https://github.com/EdgeSimPy/EdgeSimPy/blob/master/edge_sim_py/components/mobility_models/pathway.py), [Random](https://github.com/EdgeSimPy/EdgeSimPy/blob/master/edge_sim_py/components/mobility_models/random_mobility.py)), user access patterns ([Circular](https://github.com/EdgeSimPy/EdgeSimPy/blob/master/edge_sim_py/components/user_access_patterns/circular_duration_and_interval_access_pattern.py), [Random](https://github.com/EdgeSimPy/EdgeSimPy/blob/master/edge_sim_py/components/user_access_patterns/random_duration_and_interval_access_pattern.py)), and power consumption of servers ([Linear](https://github.com/EdgeSimPy/EdgeSimPy/blob/master/edge_sim_py/components/power_models/servers/linear_server_power_model.py), [Square](https://github.com/EdgeSimPy/EdgeSimPy/blob/master/edge_sim_py/components/power_models/servers/square_server_power_model.py), and [Cubic](https://github.com/EdgeSimPy/EdgeSimPy/blob/master/edge_sim_py/components/power_models/servers/cubic_server_power_model.py)) and network switches ([Conterato et al.](https://github.com/EdgeSimPy/EdgeSimPy/blob/master/edge_sim_py/components/power_models/network/conterato_network_power_model.py)). In addition, EdgeSimPy's decoupled architecture facilitates the incorporation of custom system models to represent other behaviors.\n",
    "\n",
    "This notebook will show how to use custom mobility and power consumption models on EdgeSimPy simulations. For this, we will go through the following steps:\n",
    "1. Creating a sample dataset that specifies the behavior of a couple of components that employ built-in and custom mobility and power consumption models.\n",
    "2. Simulating the scenario described in the created dataset, passing the custom models as parameters to EdgeSimPy's Simulator class.\n",
    "3. Analyzing EdgeSimPy's simulation logs (emphasis on user mobility and edge server power consumption).\n",
    "\n",
    "\n",
    "<blockquote>\n",
    "\n",
    "<strong>⚠️ COMPATIBILITY WARNING ⚠️</strong>\n",
    "\n",
    "Be aware that this notebook will only work with EdgeSimPy v1.1.0 and newer versions.\n",
    "\n",
    "</blockquote>"
   ]
  },
  {
   "attachments": {},
   "cell_type": "markdown",
   "metadata": {},
   "source": [
    "## Loading Dependencies\n",
    "\n",
    "Before we start our journey toward employing custom system models in EdgeSimPy, let's load the dependencies. The cell below (optionally) downloads and imports the following libraries:\n",
    "1. EdgeSimPy (Simulation)\n",
    "2. Matplotlib (Interactive Visualization)\n",
    "3. Pandas (Log Parsing)\n",
    "\n",
    "In addition, it imports some of Python's built-in modules (`os` and `random`) to enable the reproducibility of our notebook results and for reading EdgeSimPy's log files."
   ]
  },
  {
   "cell_type": "code",
   "execution_count": null,
   "metadata": {},
   "outputs": [],
   "source": [
    "################################\n",
    "#### EdgeSimPy (Simulation) ####\n",
    "################################\n",
    "try:\n",
    "    # Importing EdgeSimPy components and its built-in libraries (NetworkX and MessagePack)\n",
    "    from edge_sim_py import *\n",
    "    import networkx as nx\n",
    "    import msgpack\n",
    "\n",
    "except ModuleNotFoundError:\n",
    "    # Downloading EdgeSimPy binaries from GitHub (the \"-q\" parameter suppresses Pip's output. You check the full logs by removing it)\n",
    "    !pip install -q git+https://github.com/EdgeSimPy/EdgeSimPy.git@v1.1.0\n",
    "\n",
    "    # Importing EdgeSimPy components and its built-in libraries (NetworkX and MessagePack)\n",
    "    from edge_sim_py import *\n",
    "    import networkx as nx\n",
    "    import msgpack\n",
    "\n",
    "\n",
    "################################################\n",
    "#### Matplotlib (Interactive Visualization) ####\n",
    "################################################\n",
    "try:\n",
    "    # Importing Matplotlib\n",
    "    import matplotlib.pyplot as plt\n",
    "\n",
    "except ModuleNotFoundError:\n",
    "    # Downloading Matplotlib\n",
    "    !pip -q install matplotlib\n",
    "    \n",
    "    # Importing Matplotlib\n",
    "    import matplotlib.pyplot as plt\n",
    "\n",
    "\n",
    "##############################\n",
    "#### Pandas (Log Parsing) ####\n",
    "##############################\n",
    "try:\n",
    "    # Downloading Pandas\n",
    "    import pandas as pd\n",
    "\n",
    "except ModuleNotFoundError:\n",
    "    # Downloading Pandas\n",
    "    !pip install -q pandas\n",
    "    \n",
    "    # Importing Pandas\n",
    "    import pandas as pd\n",
    "\n",
    "\n",
    "##################################\n",
    "#### Python's Default Modules ####\n",
    "##################################\n",
    "import os\n",
    "import random"
   ]
  },
  {
   "attachments": {},
   "cell_type": "markdown",
   "metadata": {},
   "source": [
    "Now, let's define a seed value to ensure that our notebook generates reproducible outcomes regardless of any stochastic behavior called during the process."
   ]
  },
  {
   "cell_type": "code",
   "execution_count": null,
   "metadata": {},
   "outputs": [],
   "source": [
    "# Defining a seed value to enable reproducible outcomes\n",
    "random.seed(1)"
   ]
  },
  {
   "attachments": {},
   "cell_type": "markdown",
   "metadata": {},
   "source": [
    "## Creating the Dataset"
   ]
  },
  {
   "attachments": {},
   "cell_type": "markdown",
   "metadata": {},
   "source": [
    "For most EdgeSimPy simulations, the most fundamental component in the dataset relates to the map model, which encapsulates the coordinates system employed by several simulation entities such as base stations, edge servers, and users. Although the map model typically has no impact on some system models (e.g., power consumption models), being aware of it is especially important when considering using custom mobility models. For example, it is pointless to import realistic user mobility traces without planning how to embed all the involved coordinates in the base stations since the default mobility behavior in EdgeSimPy implicates the transit of users between coordinates linked to different base stations (which serve as network entry points for the users).\n",
    "\n",
    "EdgeSimPy's default architecture uses a map model proposed by Aral et al., which divides the map into hexagonal cells. Although this model is usually hard to convert to realistic, fine-grained coordinates, it facilitates the geospatial representation of large-scale scenarios, having been adopted by several works in telecommunications.\n",
    "\n",
    "We can create a hexagonal cell calling EdgeSimPy's `hexagonal_grid` function, which automatically generates the set of coordinates for a given map size (X and Y). The `hexagonal_grid` returns a Python list with a bunch of small 2-item lists (each of these 2-item lists represents one of the coordinates)."
   ]
  },
  {
   "cell_type": "code",
   "execution_count": null,
   "metadata": {},
   "outputs": [],
   "source": [
    "map_coordinates = hexagonal_grid(x_size=3, y_size=3)"
   ]
  },
  {
   "attachments": {},
   "cell_type": "markdown",
   "metadata": {},
   "source": [
    "Once we have our coordinates set, we can use them to create our base stations. As EdgeSimPy's default hexagonal map model assumes the presence of a base station at each coordinate, in addition to serving as network entry points for users on the map, other components (e.g., edge servers and network switches) will also be connected to the base stations. Imagine a scenario like the one depicted in the Figure below, where each hexagonal cell represents a region in the map with a coordinate assigned to it.\n",
    "\n",
    "Each hexagonal cell necessarily has a base station (otherwise, users in that cell would not be able to access the edge network) and a network switch (as we want all base stations to be connected, forming a wired network infrastructure). In addition, base stations may optionally be equipped with edge servers for hosting services.\n",
    "\n",
    "The Figure below represents a scenario comprised of six hexagonal cells (i.e., with six base stations and six network switches), nine network links (denoted as L1–L9), and three edge servers (ES1–ES3). We also have two users accessing an application each. Whereas User 1 accesses an application composed of a single service (S1), User 2 accesses an application composed of two services (S2 and S3). Please notice that the network communication between users and their applications (denoted as dotted arrows above the network links) depends on their positions and the adopted service placement.\n",
    "\n",
    "\n",
    "<img src=\"https://raw.githubusercontent.com/EdgeSimPy/edgesimpy-tutorials/master/assets/1675091491_edgesimpy_scenario.png\" alt=\"EdgeSimPy's default map model\" style=\"width:500px;\"/>\n",
    "\n",
    "Be aware that we will not be creating the exact scenario depicted in the image above—a further explanation on the dataset we're creating will be given in the following cells.\n",
    "\n",
    "That being said, let's create a base station and a network switch for each coordinate in the map:"
   ]
  },
  {
   "cell_type": "code",
   "execution_count": null,
   "metadata": {},
   "outputs": [],
   "source": [
    "for coordinates in map_coordinates:\n",
    "    # Creating the base station object\n",
    "    base_station = BaseStation()\n",
    "    base_station.wireless_delay = 0\n",
    "    base_station.coordinates = coordinates\n",
    "\n",
    "    # Creating network switch object using the \"sample_switch()\" generator\n",
    "    network_switch = sample_switch()\n",
    "    base_station._connect_to_network_switch(network_switch=network_switch)"
   ]
  },
  {
   "attachments": {},
   "cell_type": "markdown",
   "metadata": {},
   "source": [
    "Although we have a network switch for each base station on the map, there have yet to be network links connecting them. EdgeSimPy enables any wired network topology by leveraging the features of the [NetworkX](https://networkx.org/) library. Although we can manually create a network topology using NetworkX, EdgeSimPy provides some helper methods that automatically do that for us.\n",
    "\n",
    "Let us create a mesh topology connecting the network switches. As edge networks might be comprised of links with heterogeneous specifications, EdgeSimPy's network builder helpers have a `link_specifications` attribute, which expects a list of dictionaries, where each dictionary represents a link specification with three keys:\n",
    "1. `\"number_of_objects\"`: number of network links in the network topology that will employ the specification.\n",
    "2. `\"delay\"`: delay of the network links.\n",
    "3. `\"bandwidth\"`: bandwidth of the network links.\n",
    "\n",
    "Please notice that the `\"number_of_objects\"` keys of the link specifications do not dictate the number of links within the network topology (this is defined automatically within the helper method's internal behavior). Instead, `\"number_of_objects\"` describes how many of the created links will ship its specification. As we might not have a priori knowledge of the number of links that the helper will generate, we might define a random number (e.g., 1) for each configuration, which will lead to an error whose message will tell us the correct number of links, allowing us to edit the specifications with the expected value. In this case, the `\"number_of_objects\"` was already defined with the correct value based on the number of network switches."
   ]
  },
  {
   "cell_type": "code",
   "execution_count": null,
   "metadata": {},
   "outputs": [],
   "source": [
    "partially_connected_hexagonal_mesh(\n",
    "    network_nodes=NetworkSwitch.all(),\n",
    "    link_specifications=[\n",
    "        {\"number_of_objects\": 16, \"delay\": 1, \"bandwidth\": 10},\n",
    "    ],\n",
    ")"
   ]
  },
  {
   "attachments": {},
   "cell_type": "markdown",
   "metadata": {},
   "source": [
    "### Creating Edge Servers\n",
    "\n",
    "Now that we have defined the network switches and base stations, it's time to create some edge servers. As one of the goals of this tutorial is to demonstrate the integration of custom power consumption models, we will create two edge servers: one using the `LinearPowerModel` (one of EdgeSimPy's built-in power consumption models) and one using a custom power consumption model.\n",
    "\n",
    "EdgeSimPy implements Power models as classes with a class method called `get_power_consumption(cls, device)`, which returns the power consumption of a given device passed as an argument to it. Please notice that the only attribute that matters to us is `device`, as `cls` is a mandatory attribute for Python's class methods. One of the cells below will demonstrate how we can create a custom power consumption model class.\n",
    "\n",
    "Edge servers in EdgeSimPy have two particularly interesting attributes for supporting power consumption models. The first, called `power_model`, points to the edge server's power model class. The second, called `power_model_parameters`, is a dictionary containing any parameter used by the power model to calculate the edge server's power consumption."
   ]
  },
  {
   "attachments": {},
   "cell_type": "markdown",
   "metadata": {},
   "source": [
    "#### Edge Server 1 — Using EdgeSimPy's Built-In Power Models\n",
    "\n",
    "Let's start by creating an edge server using the `LinearPowerModel`, which receives two parameters:\n",
    "- `max_power_consumption`: the device's maximum power consumption (i.e., the device's power consumption when fully occupied).\n",
    "- `static_power_percentage`: the percentage of the device's maximum power consumption reserved as \"static power\" (i.e., the device's power consumption when idle). Please notice that the percentage is defined as decimals (`0.0` => 0%, `0.1` => 10%, `0.25` => 25%, ..., `1` => 100%)."
   ]
  },
  {
   "cell_type": "code",
   "execution_count": null,
   "metadata": {},
   "outputs": [],
   "source": [
    "edge_server = EdgeServer()\n",
    "\n",
    "# Computational capacity (CPU in cores, RAM memory in megabytes, and disk in megabytes)\n",
    "edge_server.cpu = 10\n",
    "edge_server.memory = 4096\n",
    "edge_server.disk = 102400\n",
    "\n",
    "# Power-related attributes\n",
    "edge_server.power_model_parameters = {\n",
    "    \"max_power_consumption\": 110,\n",
    "    \"static_power_percentage\": 0.1,\n",
    "}\n",
    "\n",
    "# Specifying the edge server's power model\n",
    "edge_server.power_model = LinearServerPowerModel\n",
    "\n",
    "# Connecting the edge server to a random base station with no attached edge server\n",
    "base_stations_without_servers = [base_station for base_station in BaseStation.all() if len(base_station.edge_servers) == 0]\n",
    "base_station = random.choice(base_stations_without_servers)\n",
    "base_station._connect_to_edge_server(edge_server=edge_server)"
   ]
  },
  {
   "attachments": {},
   "cell_type": "markdown",
   "metadata": {},
   "source": [
    "#### Edge Server 2 — Integrating Custom Power Models to EdgeSimPy\n",
    "\n",
    "Now, let's create an edge server using a custom power model called `MyCustomPowerModel`. For simplicity, our custom model will multiply the edge server's demand by a constant \"ALPHA\". Please notice that the same structure allows the definition of more sophisticated structures.\n",
    "\n",
    "The cell below describes our custom model (`MyCustomPowerModel`).\n",
    "\n",
    "`MyCustomPowerModel` only relies on the device's demand and the constant ALPHA. Whereas our model can obtain the demand by manipulating the `device` attribute, we must inform the constant \"ALPHA\" through the `power_model_parameters` dictionary."
   ]
  },
  {
   "cell_type": "code",
   "execution_count": null,
   "metadata": {},
   "outputs": [],
   "source": [
    "class MyCustomPowerModel:\n",
    "    @classmethod\n",
    "    def get_power_consumption(cls, device: object):\n",
    "        # Please notice that this sample code could be replaced by any other routine\n",
    "        power_consumption = device.cpu_demand * device.power_model_parameters[\"alpha\"]\n",
    "\n",
    "        # It's important to always return the calculated device's power consumption\n",
    "        return power_consumption"
   ]
  },
  {
   "attachments": {},
   "cell_type": "markdown",
   "metadata": {},
   "source": [
    "Once we have defined our custom power model, let's create an edge server that uses it:"
   ]
  },
  {
   "cell_type": "code",
   "execution_count": null,
   "metadata": {},
   "outputs": [],
   "source": [
    "edge_server = EdgeServer()\n",
    "\n",
    "# Computational capacity (CPU in cores, RAM memory in megabytes, and disk in megabytes)\n",
    "edge_server.cpu = 10\n",
    "edge_server.memory = 4096\n",
    "edge_server.disk = 102400\n",
    "\n",
    "# Power-related attributes\n",
    "edge_server.power_model_parameters = {\n",
    "    \"alpha\": 2,\n",
    "}\n",
    "\n",
    "# Specifying the edge server's power model\n",
    "edge_server.power_model = MyCustomPowerModel\n",
    "\n",
    "# Connecting the edge server to a random base station with no attached edge server\n",
    "base_stations_without_servers = [base_station for base_station in BaseStation.all() if len(base_station.edge_servers) == 0]\n",
    "base_station = random.choice(base_stations_without_servers)\n",
    "base_station._connect_to_edge_server(edge_server=edge_server)"
   ]
  },
  {
   "attachments": {},
   "cell_type": "markdown",
   "metadata": {},
   "source": [
    "### Creating Users\n",
    "\n",
    "The User entity is one of EdgeSimPy's most extensible components, supporting built-in and custom models describing user access patterns and mobility.\n",
    "\n",
    "Users in EdgeSimPy have two attributes related to mobility models. The first, called `mobility_model`, references the user's mobility model function. The second, called `mobility_model_parameters`, is a dictionary containing any parameter the mobility model uses during its functioning.\n",
    "\n",
    "In the following cells, we will dive deep into how to create users with built-in and custom mobility models. More specifically, we will create two users: one using `Pathway` (one of EdgeSimPy's built-in mobility models) and one using a custom mobility model.\n",
    "\n",
    "During the user creation, we might notice that we will call the `_set_initial_position()` method. This method tells EdgeSimPy to keep the user in its initial coordinates for a given number of time steps through the `number_of_replicates` parameter before (potentially) moving to other coordinates according to its mobility model. By default, EdgeSimPy replicates the user coordinates twice in the beginning of the simulation."
   ]
  },
  {
   "attachments": {},
   "cell_type": "markdown",
   "metadata": {},
   "source": [
    "#### User 1 — Using EdgeSimPy's Built-In Mobility Models\n",
    "\n",
    "Creating a User with the Pathway mobility model is pretty simple—we just need to fill the user's `mobility_model` attribute with a reference to the `pathway` model:"
   ]
  },
  {
   "cell_type": "code",
   "execution_count": null,
   "metadata": {},
   "outputs": [],
   "source": [
    "user = User()\n",
    "user.mobility_model = pathway\n",
    "user._set_initial_position(coordinates=random.choice(map_coordinates))"
   ]
  },
  {
   "attachments": {},
   "cell_type": "markdown",
   "metadata": {},
   "source": [
    "#### User 2 — Using EdgeSimPy's Built-In Mobility Models\n",
    "\n",
    "Now, let's create User 2, assigning him a custom mobility model called `my_custom_mobility_model`, which will move the user to a random position at each `beta` time steps, where `beta` is a configurable parameter that we'll inform in the dataset."
   ]
  },
  {
   "cell_type": "code",
   "execution_count": null,
   "metadata": {},
   "outputs": [],
   "source": [
    "def my_custom_mobility_model(user: object):\n",
    "    # Gathering the user's mobility model parameters. If no parameter was specified, set \"beta\" as 1\n",
    "    if hasattr(user, 'mobility_model_parameters') and \"beta\" in user.mobility_model_parameters:\n",
    "        parameters = user.mobility_model_parameters\n",
    "    else:\n",
    "        parameters = {\"beta\": 1}\n",
    "\n",
    "    # Moving the user to random coordinates. We find the set of coordinates\n",
    "    # through base stations, as base stations are the entities responsible\n",
    "    # for providing wireless connectivity for users, being present in all\n",
    "    # map coordinates. Thus, let's find a random base station\n",
    "    random_base_station = user.base_station\n",
    "    while random_base_station == user.base_station:\n",
    "        random_base_station = random.choice(BaseStation.all())\n",
    "    \n",
    "    # Setting the user's coordinates trace to the random base station position and\n",
    "    # instructing EdgeSimPy that the user will stay in that position for \"beta\" time steps\n",
    "    new_coordinates = [random_base_station.coordinates for _ in range(parameters[\"beta\"])]\n",
    "    user.coordinates_trace.extend(new_coordinates)"
   ]
  },
  {
   "cell_type": "code",
   "execution_count": null,
   "metadata": {},
   "outputs": [],
   "source": [
    "user = User()\n",
    "user.mobility_model = my_custom_mobility_model\n",
    "user.mobility_model_parameters = {\"beta\": 3}\n",
    "user._set_initial_position(coordinates=random.choice(map_coordinates), number_of_replicates=user.mobility_model_parameters[\"beta\"])"
   ]
  },
  {
   "attachments": {},
   "cell_type": "markdown",
   "metadata": {},
   "source": [
    "### Visualizing the Dataset\n",
    "\n",
    "Once we have created our dataset, let's visualize it through NetworkX's drawing features. More specifically, we will plot the network infrastructure, highlighting some network switches according to the following criteria:\n",
    "- Switches whose base station has connected users will be larger than those without connected users.\n",
    "- Switches whose base station is equipped with edge servers will be drawn in red, while others will be drawn in black."
   ]
  },
  {
   "cell_type": "code",
   "execution_count": null,
   "metadata": {},
   "outputs": [],
   "source": [
    "# Customizing network visualization\n",
    "positions = {}\n",
    "labels = {}\n",
    "sizes = []\n",
    "colors = []\n",
    "for node in Topology.first().nodes():\n",
    "    positions[node] = node.coordinates\n",
    "    labels[node] = f\"ID: {node.id}\\n{node.coordinates}\"\n",
    "    \n",
    "    if len(node.base_station.users) > 0:\n",
    "        sizes.append(3500)\n",
    "    else:\n",
    "        sizes.append(1000)\n",
    "    \n",
    "    if len(node.base_station.edge_servers) > 0:\n",
    "        colors.append(\"red\")\n",
    "    else:\n",
    "        colors.append(\"black\")\n",
    "\n",
    "# Drawing the network topology\n",
    "nx.draw(\n",
    "    Topology.first(),\n",
    "    pos=positions,\n",
    "    node_color=colors,\n",
    "    node_size=sizes,\n",
    "    labels=labels,\n",
    "    font_size=7,\n",
    "    font_weight=\"bold\",\n",
    "    font_color=\"whitesmoke\",\n",
    ")"
   ]
  },
  {
   "attachments": {},
   "cell_type": "markdown",
   "metadata": {},
   "source": [
    "### Exporting the Dataset\n",
    "\n",
    "Once we have created our dataset, we can export it to JSON using one of EdgeSimPy's `ComponentManager` helper methods.\n",
    "\n",
    "Note that EdgeSimPy enables you to define custom attributes for the simulated entities. However, before exporting the dataset, you will need to override the `_to_dict()` method of the modified entities, instructing EdgeSimPy to serialize the objects into JSON.\n",
    "\n",
    "This aspect of EdgeSimPy's flexibility stems from a well-defined exporting structure, which divides the entity attributes into two groups:\n",
    "- `attributes`: object attributes that don't reference other simulated entities.\n",
    "- `relationships`: object attributes that reference other simulated entities.\n",
    "\n",
    "As long as you respect EdgeSimPy's exporting structure, it will be able to automatically identify any custom attribute/relationship added to the simulated entities.\n",
    "\n",
    "Please observe that the `_to_dict()` below, which is a simplified version of the one used in the EdgeServer entity. There is a couple of interesting pieces of information to observe in the method.\n",
    "- **Attributes**:\n",
    "  - All entity objects must export their object IDs as such attribute is used to distinguish one object from another.\n",
    "  - Common items within the `\"attributes\"` key have the following data types: `str`, `int`, `float`, `list`, `tuple`, `bool`, `set`, `NoneType`, and `dict`. In this example, we have an int (`\"id\"`), a list (`\"coordinates\"`), and a dict (`\"delays\"`) attributes. Please notice that dictionaries (\"dicts\" for short) are stored using Python's `copy.deepcopy()` method to avoid reference errors.\n",
    "- **Relationships**:\n",
    "  - This example ships all the common types of relationships:\n",
    "    - `\"mobility_model\"`: references a function name.\n",
    "    - `\"base_station\"`: points to a single object. Please notice that this type of relationship is encapsulated inside a dictionary with two keys that instruct EdgeSimPy about the referenced object's class and ID.\n",
    "    - `\"applications\"`: points to a list of objects. It uses a list with multiple dictionary structures, like in the `\"base_station\"` attribute, to encapsulate the referenced objects.\n",
    "\n",
    "```python\n",
    "class EdgeServer(ComponentManager, Agent):\n",
    "    \n",
    "    ...\n",
    "    \n",
    "    def _to_dict(self) -> dict:\n",
    "        access_patterns = {}\n",
    "        for app_id, access_pattern in self.access_patterns.items():\n",
    "            access_patterns[app_id] = {\"class\": access_pattern.__class__.__name__, \"id\": access_pattern.id}\n",
    "\n",
    "        dictionary = {\n",
    "            \"attributes\": {\n",
    "                \"id\": self.id,\n",
    "                \"coordinates\": self.coordinates,\n",
    "                \"delays\": copy.deepcopy(self.delays),\n",
    "            },\n",
    "            \"relationships\": {\n",
    "                \"mobility_model\": self.mobility_model.__name__,\n",
    "                \"base_station\": {\"class\": type(self.base_station).__name__, \"id\": self.base_station.id},\n",
    "                \"applications\": [{\"class\": type(app).__name__, \"id\": app.id} for app in self.applications],\n",
    "            },\n",
    "        }\n",
    "        return dictionary\n",
    "```\n",
    "\n",
    "\n",
    "As we didn't change any of the simulated entities, we can move on and export our dataset:"
   ]
  },
  {
   "cell_type": "code",
   "execution_count": null,
   "metadata": {},
   "outputs": [],
   "source": [
    "dataset = ComponentManager.export_scenario(save_to_file=True, file_name=\"sample_dataset\")"
   ]
  },
  {
   "attachments": {},
   "cell_type": "markdown",
   "metadata": {},
   "source": [
    "## Running the Simulation\n",
    "\n",
    "Most EdgeSimPy simulations work around resource management policies executed at each time step that can (optionally) manipulate applications and the underlying infrastructure. As this example focuses on demonstrating power consumption and mobility models, we will create a resource management policy that does not act on the simulated scenario. Instead, it manipulates the edge servers' demand to demonstrate the behavior of the different power consumption models. Please note that directly changing the hosts' demand is not recommended—we are just doing this to show how the power consumption models work based on the varying demand."
   ]
  },
  {
   "cell_type": "code",
   "execution_count": null,
   "metadata": {},
   "outputs": [],
   "source": [
    "def cool_resource_management_policy(parameters: dict):\n",
    "    current_time_step = parameters[\"current_step\"]\n",
    "    for edge_server in EdgeServer.all():\n",
    "        edge_server.cpu_demand = current_time_step\n"
   ]
  },
  {
   "attachments": {},
   "cell_type": "markdown",
   "metadata": {},
   "source": [
    "To see EdgeSimPy in action, we need to create an instance of the `Simulator` class, which will manage the simulation for us. There are a couple of parameters passed to the `Simulator` class constructor that we must know to achieve the goal of this notebook:\n",
    "- `dump_interval`: how often (in terms of simulation time steps) will EdgeSimPy dump logs to the disk.\n",
    "- `tick_unit`: time unit represented by simulation time steps.\n",
    "- `tick_duration`: how much time (in the chosen time unit) passes at each time step (e.g., 1 second or 100 milliseconds).\n",
    "- `stopping_criterion`: boolean expression checked at each time step that stops the simulation as soon as it returns True.\n",
    "- `resource_management_algorithm`: resource management policy executed at each time step.\n",
    "- `user_defined_functions`: set of user-defined functions executed during the simulation. This is an important argument for embedding custom models into EdgeSimPy simulations. We must pass a list referencing all the system models (in our case, `MyCustomPowerModel` and `my_custom_mobility_model`) to allow EdgeSimPy to use them during the simulation.\n",
    "\n",
    "After instantiating the `Simulator` class, we can load our dataset and run the simulation."
   ]
  },
  {
   "cell_type": "code",
   "execution_count": null,
   "metadata": {},
   "outputs": [],
   "source": [
    "# Instantiating the simulator\n",
    "simulator = Simulator(\n",
    "    dump_interval=5,\n",
    "    tick_unit=\"minutes\",\n",
    "    tick_duration=1,\n",
    "    stopping_criterion=lambda model: model.schedule.steps == 10,\n",
    "    resource_management_algorithm=cool_resource_management_policy,\n",
    "    user_defined_functions=[MyCustomPowerModel, my_custom_mobility_model]\n",
    ")\n",
    "\n",
    "# Loading our dataset\n",
    "simulator.initialize(input_file=\"datasets/sample_dataset.json\")\n",
    "\n",
    "# Running the simulation\n",
    "simulator.run_model()"
   ]
  },
  {
   "attachments": {},
   "cell_type": "markdown",
   "metadata": {},
   "source": [
    "## Analyzing the Simulation Results\n",
    "\n",
    "EdgeSimPy has a robust monitoring system that can be easily extended and leveraged in various ways. We have an independent notebook detailing EdgeSimPy monitoring capabilities—you can check it out on [this link](https://github.com/EdgeSimPy/edgesimpy-tutorials/blob/master/notebooks/monitoring-simulation.ipynb).\n",
    "\n",
    "In this notebook, we will parse the simulator logs (stored in MessagePack format) with Pandas, as this approach can be adopted more readily in various circumstances, including sole simulations and automated batch simulation executions."
   ]
  },
  {
   "attachments": {},
   "cell_type": "markdown",
   "metadata": {},
   "source": [
    "### Parsing Simulation Logs\n",
    "\n",
    "First, let's use a chunk of boilerplate code to format the output of Pandas dataframes:"
   ]
  },
  {
   "cell_type": "code",
   "execution_count": null,
   "metadata": {},
   "outputs": [],
   "source": [
    "pd.options.display.max_columns = 1000\n",
    "pd.options.display.max_rows = 5000\n",
    "pd.options.display.max_colwidth = 199\n",
    "pd.options.display.width = 1000\n",
    "\n",
    "\n",
    "def highlight_rows(dataframe):\n",
    "    df = dataframe.copy()\n",
    "\n",
    "    mask = df['Time Step'] % 2 == 0\n",
    "\n",
    "    df.loc[mask, :] = 'background-color: #222222; color: white'\n",
    "    df.loc[~mask, :] = 'background-color: #333333; color: white'\n",
    "\n",
    "    return df"
   ]
  },
  {
   "attachments": {},
   "cell_type": "markdown",
   "metadata": {},
   "source": [
    "Now, let's read the log files and parse them to Pandas dataframes:"
   ]
  },
  {
   "cell_type": "code",
   "execution_count": null,
   "metadata": {},
   "outputs": [],
   "source": [
    "# Gathering the list of msgpack files in the current directory\n",
    "logs_directory = f\"{os.getcwd()}/logs\"\n",
    "dataset_files = [file for file in os.listdir(logs_directory) if \".msgpack\" in file]\n",
    "\n",
    "# Reading msgpack files found\n",
    "datasets = {}\n",
    "for file in dataset_files:\n",
    "    with open(f\"logs/{file}\", \"rb\") as data_file:\n",
    "        datasets[file.replace(\".msgpack\", \"\")] = pd.DataFrame(msgpack.unpackb(data_file.read(), strict_map_key=False))"
   ]
  },
  {
   "attachments": {},
   "cell_type": "markdown",
   "metadata": {},
   "source": [
    "Once we have dataframes hosting our simulation logs, we can check the metrics from the different simulated entities, e.g., edge servers and users."
   ]
  },
  {
   "cell_type": "code",
   "execution_count": null,
   "metadata": {},
   "outputs": [],
   "source": [
    "datasets[\"EdgeServer\"].style.apply(highlight_rows, axis=None)"
   ]
  },
  {
   "cell_type": "code",
   "execution_count": null,
   "metadata": {},
   "outputs": [],
   "source": [
    "datasets[\"User\"].style.apply(highlight_rows, axis=None)"
   ]
  },
  {
   "attachments": {},
   "cell_type": "markdown",
   "metadata": {},
   "source": [
    "In addition, we can employ Pandas functions to transform the structure of dataframes to get specific pieces of information, such as the user mobility traces and the edge servers' power consumption."
   ]
  },
  {
   "cell_type": "code",
   "execution_count": null,
   "metadata": {},
   "outputs": [],
   "source": [
    "print(\"=== USER MOBILITY TRACES ===\")\n",
    "users_coordinates = dict(datasets[\"User\"].groupby('Object')['Coordinates'].apply(list))\n",
    "for user, mobility_logs in users_coordinates.items():\n",
    "    print(f\"{user}. Mobility Logs: {mobility_logs}\")\n",
    "\n",
    "print(\"\\n\\n\")\n",
    "\n",
    "print(\"=== EDGE SERVERS' POWER CONSUMPTION ===\")\n",
    "edge_servers_power_consumption = dict(datasets[\"EdgeServer\"].groupby('Object')['Power Consumption'].apply(list))\n",
    "for edge_server, power_consumption in edge_servers_power_consumption.items():\n",
    "    print(f\"{edge_server}. Power Consumption per Step: {power_consumption}\")"
   ]
  },
  {
   "attachments": {},
   "cell_type": "markdown",
   "metadata": {},
   "source": [
    "## Next Steps\n",
    "\n",
    "Although this notebook is reasonably simple, it presents the fundamentals for employing built-in and custom system models on EdgeSimPy simulations. If you are interested in learning more about EdgeSimPy, please check out the other notebooks available:\n",
    "\n",
    "- [Loading Datasets](https://github.com/EdgeSimPy/edgesimpy-tutorials/blob/master/notebooks/loading-datasets.ipynb)\n",
    "- [Manipulating Components](https://github.com/EdgeSimPy/edgesimpy-tutorials/blob/master/notebooks/manipulating-components.ipynb)\n",
    "- [Creating a Migration Algorithm](https://github.com/EdgeSimPy/edgesimpy-tutorials/blob/master/notebooks/creating-migration-algorithm.ipynb)\n",
    "- [Creating a Placement Algorithm](https://github.com/EdgeSimPy/edgesimpy-tutorials/blob/master/notebooks/creating-placement-algorithm.ipynb)\n",
    "- [Monitoring Simulations](https://github.com/EdgeSimPy/edgesimpy-tutorials/blob/master/notebooks/monitoring-simulation.ipynb)\n",
    "- [Automating Experiments](https://github.com/EdgeSimPy/edgesimpy-tutorials/blob/master/notebooks/automating-experiments.ipynb)\n",
    "\n",
    "In addition to testing these notebooks on your local computer, you can execute them without installing dependencies through cloud platforms such as Google Colaboratory. To explore such an option, access our tutorials repository ([link here](https://github.com/EdgeSimPy/edgesimpy-tutorials)) and click on any of the \"RUN\" options on the side of each notebook."
   ]
  }
 ],
 "metadata": {
  "kernelspec": {
   "display_name": "Python 3.10.6 ('edgesimpy-tutorials-QsXmQ38W-py3.10')",
   "language": "python",
   "name": "python3"
  },
  "language_info": {
   "codemirror_mode": {
    "name": "ipython",
    "version": 3
   },
   "file_extension": ".py",
   "mimetype": "text/x-python",
   "name": "python",
   "nbconvert_exporter": "python",
   "pygments_lexer": "ipython3",
   "version": "3.10.6"
  },
  "orig_nbformat": 4,
  "vscode": {
   "interpreter": {
    "hash": "50cb211c4021f4a25a142368b69ce4d994f94aff73dc90314b4ffb0c06ad024a"
   }
  }
 },
 "nbformat": 4,
 "nbformat_minor": 2
}
