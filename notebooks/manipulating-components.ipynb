{
 "cells": [
  {
   "cell_type": "markdown",
   "metadata": {},
   "source": [
    "# Manipulating Components\n",
    "\n",
    "By default, all classes that represent elements of edge environments in EdgeSimPy inherit the features of a component called `ComponentManager`.\n",
    "\n",
    "The `ComponentManager` component has several built-in helper methods that make it easier for us to manipulate objects during simulation. The cells below creates a sample simulation and calls these helper methods."
   ]
  },
  {
   "cell_type": "code",
   "execution_count": null,
   "metadata": {},
   "outputs": [],
   "source": [
    "# Downloading EdgeSimPy binaries from GitHub (the \"-q\" parameter suppresses Pip's output. You check the full logs by removing it)\n",
    "!pip install -q git+https://github.com/EdgeSimPy/EdgeSimPy.git@v1.1.0\n",
    "\n",
    "# Importing EdgeSimPy components\n",
    "from edge_sim_py import *"
   ]
  },
  {
   "cell_type": "code",
   "execution_count": null,
   "metadata": {},
   "outputs": [],
   "source": [
    "# Creating a Simulator object\n",
    "simulator = Simulator(\n",
    "    tick_duration=1,\n",
    "    tick_unit=\"seconds\",\n",
    "    stopping_criterion=lambda model: 1,\n",
    ")\n",
    "\n",
    "# Loading a sample dataset from GitHub\n",
    "simulator.initialize(input_file=\"https://raw.githubusercontent.com/EdgeSimPy/edgesimpy-tutorials/master/datasets/sample_dataset1.json\")"
   ]
  },
  {
   "cell_type": "markdown",
   "metadata": {},
   "source": [
    "`all()` — Listing all instances of a given component."
   ]
  },
  {
   "cell_type": "code",
   "execution_count": null,
   "metadata": {},
   "outputs": [],
   "source": [
    "all_users = User.all()\n",
    "\n",
    "for user in all_users:\n",
    "    print(f\"    {user}\")"
   ]
  },
  {
   "cell_type": "markdown",
   "metadata": {},
   "source": [
    "`first()` and `last()` — Gathering the first and last instances of a given component, respectively."
   ]
  },
  {
   "cell_type": "code",
   "execution_count": null,
   "metadata": {},
   "outputs": [],
   "source": [
    "first_user = User.first()\n",
    "last_user = User.last()\n",
    "\n",
    "print(f\"First user: {first_user}\")\n",
    "print(f\"Last user: {last_user}\")"
   ]
  },
  {
   "cell_type": "markdown",
   "metadata": {},
   "source": [
    "`count()` — Counting the number of instances of a given component."
   ]
  },
  {
   "cell_type": "code",
   "execution_count": null,
   "metadata": {},
   "outputs": [],
   "source": [
    "number_of_edge_servers = EdgeServer.count()\n",
    "\n",
    "print(f\"There are {number_of_edge_servers} edge servers within the infrastructure\")"
   ]
  },
  {
   "cell_type": "markdown",
   "metadata": {},
   "source": [
    "`find_by_id()` — Gathering a class instance by its ID."
   ]
  },
  {
   "cell_type": "code",
   "execution_count": null,
   "metadata": {},
   "outputs": [],
   "source": [
    "network_switch_3 = NetworkSwitch.find_by_id(3)\n",
    "\n",
    "print(f\"Network Switch with ID 3: {network_switch_3}\")"
   ]
  },
  {
   "cell_type": "markdown",
   "metadata": {},
   "source": [
    "`find_by()` — Gathering a class instance by an user-specified attribute name."
   ]
  },
  {
   "cell_type": "code",
   "execution_count": null,
   "metadata": {},
   "outputs": [],
   "source": [
    "base_station_at_2_0 = BaseStation.find_by(attribute_name=\"coordinates\", attribute_value=[2, 0])\n",
    "\n",
    "print(f\"Base Station located in coordinates [2,0]: {base_station_at_2_0}\")"
   ]
  },
  {
   "cell_type": "markdown",
   "metadata": {},
   "source": [
    "## Custom Helper Methods\n",
    "\n",
    "So far, we've explored EdgeSimPy's built-in helper methods, inherited by all components through the `ComponentManager`. But what if we wanted to include our own helper methods?\n",
    "\n",
    "Fortunately, we can do this effortlessly in EdgeSimPy. In the example below, we create a custom helper method called `sorted_by` that sorts the instances of a given component based on a parameter we can specify at runtime.\n",
    "\n",
    "First, we must implement our new helper method."
   ]
  },
  {
   "cell_type": "code",
   "execution_count": null,
   "metadata": {},
   "outputs": [],
   "source": [
    "def sorted_by(cls, attribute: str, order: str = \"ascending\") -> list:\n",
    "    \"\"\"Returns the list of created objects of a given class sorted by a given attribute.\n",
    "\n",
    "    Args:\n",
    "        attribute (str): Attribute that will be used to sort the class instances.\n",
    "        order (str): Sorting order. Valid values are \"ascending\" or \"descending\". Defaults to \"ascending\".\n",
    "\n",
    "    Returns:\n",
    "        instances (list): Sorted list of objects from a given class.\n",
    "    \"\"\"\n",
    "    # Gathering the list of class instances\n",
    "    instances = cls._instances\n",
    "\n",
    "    # Checking if all the instances have the passed attribute and if the instance attributes are comparable\n",
    "    comparable_instance_pairs = 0\n",
    "    for index in range(len(instances) - 1):\n",
    "        # Gathering a pair of instances (i.e., \"a\" and \"b\") from the given class\n",
    "        a = instances[index]\n",
    "        b = instances[index + 1]\n",
    "\n",
    "        # Checking if instances \"a\" and \"b\" have the passed attribute. If \"a\" or \"b\" don't have the passed attribute, we\n",
    "        # break the outer for loop as the comparison will not work. In that case, the exception down below will be triggered\n",
    "        if not hasattr(a, attribute) or not hasattr(b, attribute):\n",
    "            break\n",
    "\n",
    "        # If the break was not triggered, \"a\" and \"b\" have the passed attribute.\n",
    "        # Then, we must check if the attribute values are comparable\n",
    "        a_attr = getattr(a, attribute)\n",
    "        b_attr = getattr(b, attribute)\n",
    "        if (a_attr).__eq__(b_attr) != NotImplemented or (b_attr).__eq__(a_attr) != NotImplemented:\n",
    "            comparable_instance_pairs += 1\n",
    "\n",
    "    # If all instances have the passed attribute and the attribute values are comparable, sorts the list of class instances\n",
    "    if comparable_instance_pairs == len(instances) - 1:\n",
    "        instances = sorted(\n",
    "            instances,\n",
    "            key=lambda instance: getattr(instance, attribute),\n",
    "            reverse=order == \"descending\",\n",
    "        )\n",
    "    else:\n",
    "        msg = f\"Error. Make sure all instances of {cls.__name__} have the {attribute} attribute with comparable values.\"\n",
    "        raise Exception(msg)\n",
    "\n",
    "    return instances"
   ]
  },
  {
   "cell_type": "markdown",
   "metadata": {},
   "source": [
    "Now that `sorted_by` is implemented, we can simply add it to ComponentManager's methods. This way, all EdgeSimPy components (which inherit `ComponentManager` features by default) will automatically have access to our new helper method."
   ]
  },
  {
   "cell_type": "code",
   "execution_count": null,
   "metadata": {},
   "outputs": [],
   "source": [
    "ComponentManager.sorted_by = classmethod(sorted_by)"
   ]
  },
  {
   "cell_type": "markdown",
   "metadata": {},
   "source": [
    "Finally, we can test `sorted_by` in action. In the example below, we sort the list of EdgeServers by ID in descending order."
   ]
  },
  {
   "cell_type": "code",
   "execution_count": null,
   "metadata": {},
   "outputs": [],
   "source": [
    "# Creating a Simulator object\n",
    "simulator = Simulator(\n",
    "    tick_duration=1,\n",
    "    tick_unit=\"seconds\",\n",
    "    stopping_criterion=lambda model: 1,\n",
    ")\n",
    "\n",
    "# Loading a sample dataset from GitHub\n",
    "simulator.initialize(input_file=\"https://raw.githubusercontent.com/EdgeSimPy/edgesimpy-tutorials/master/datasets/sample_dataset1.json\")\n",
    "\n",
    "# Sorting the list of edge servers with our new \"sorted_by\" method\n",
    "edge_servers = EdgeServer.sorted_by(attribute=\"id\", order=\"descending\")\n",
    "for edge_server in edge_servers:\n",
    "    print(f\"{edge_server}\")"
   ]
  }
 ],
 "metadata": {
  "kernelspec": {
   "display_name": "Python 3.10.6 64-bit",
   "language": "python",
   "name": "python3"
  },
  "language_info": {
   "codemirror_mode": {
    "name": "ipython",
    "version": 3
   },
   "file_extension": ".py",
   "mimetype": "text/x-python",
   "name": "python",
   "nbconvert_exporter": "python",
   "pygments_lexer": "ipython3",
   "version": "3.10.6"
  },
  "orig_nbformat": 4,
  "vscode": {
   "interpreter": {
    "hash": "916dbcbb3f70747c44a77c7bcd40155683ae19c65e1c03b4aa3499c5328201f1"
   }
  }
 },
 "nbformat": 4,
 "nbformat_minor": 2
}
