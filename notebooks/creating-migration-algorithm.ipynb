{
 "cells": [
  {
   "cell_type": "markdown",
   "metadata": {},
   "source": [
    "# Creating a Migration Algorithm\n",
    "\n",
    "This tutorial demonstrates how we can create a simple migration algorithm on EdgeSimPy.\n",
    "\n",
    "First, let's import the EdgeSimPy modules:"
   ]
  },
  {
   "cell_type": "code",
   "execution_count": null,
   "metadata": {},
   "outputs": [],
   "source": [
    "# Downloading EdgeSimPy binaries from GitHub (the \"-q\" parameter suppresses Pip's output. You check the full logs by removing it)\n",
    "!pip install -q git+https://github.com/EdgeSimPy/EdgeSimPy.git@v1.0.0\n",
    "\n",
    "# Importing EdgeSimPy components\n",
    "from edge_sim_py import *"
   ]
  },
  {
   "cell_type": "markdown",
   "metadata": {},
   "source": [
    "## Implementing the Migration Algorithm\n",
    "\n",
    "Our simple migration algorithm will work according to the well-known Worst-Fit heuristic. In a nutshell, it will provision each service to the edge server with the largest amount of free resources."
   ]
  },
  {
   "cell_type": "code",
   "execution_count": null,
   "metadata": {},
   "outputs": [],
   "source": [
    "def my_algorithm(parameters):\n",
    "    # Let's iterate over the list of services using the 'all()' helper method\n",
    "    print(\"\\n\\n\")\n",
    "    for service in Service.all():\n",
    "        \n",
    "        # We don't want to migrate services are are already being migrated\n",
    "        if not service.being_provisioned:\n",
    "\n",
    "            # We need to sort edge servers based on amount of free resources they have. To do so, we are going to use Python's\n",
    "            # \"sorted\" method (you can learn more about \"sorted()\" in this link: https://docs.python.org/3/howto/sorting.html). As\n",
    "            # the capacity of edge servers is modeled in three layers (CPU, memory, and disk), we calculate the geometric mean\n",
    "            # between these to get the average resource utilization of edge servers. Finally, we set the sorted method \"reverse\"\n",
    "            # attribute as \"True\" as we want to sort edge servers by their free resources in descending order\n",
    "            edge_servers = sorted(\n",
    "                EdgeServer.all(),\n",
    "                key=lambda s: ((s.cpu - s.cpu_demand) * (s.memory - s.memory_demand) * (s.disk - s.disk_demand)) ** (1 / 3),\n",
    "                reverse=True,\n",
    "            )\n",
    "\n",
    "            for edge_server in edge_servers:\n",
    "                # Checking if the edge server has resources to host the service\n",
    "                if edge_server.has_capacity_to_host(service=service):\n",
    "                    # We just need to migrate the service if it's not already in the least occupied edge server\n",
    "                    if service.server != edge_server:\n",
    "                        print(f\"[STEP {parameters['current_step']}] Migrating {service} From {service.server} to {edge_server}\")\n",
    "                        \n",
    "                        service.provision(target_server=edge_server)\n",
    "\n",
    "                        # After start migrating the service we can move on to the next service\n",
    "                        break"
   ]
  },
  {
   "cell_type": "markdown",
   "metadata": {},
   "source": [
    "## Running the Simulation\n",
    "\n",
    "Before testing our algorithm, we must tell EdgeSimPy when it must stop the simulation. For example, let's run the simulation for 600 seconds (i.e., 10 minutes).\n",
    "\n",
    "To do so, we must create a simple function that will be used as the simulation's stopping criterion. Behind the scenes, at the end of each time step, EdgeSimPy will run that function, halting the simulation if it returns `True`."
   ]
  },
  {
   "cell_type": "code",
   "execution_count": null,
   "metadata": {},
   "outputs": [],
   "source": [
    "def stopping_criterion(model: object):    \n",
    "    # As EdgeSimPy will halt the simulation whenever this function returns True,\n",
    "    # its output will be a boolean expression that checks if the current time step is 600\n",
    "    return model.schedule.steps == 600"
   ]
  },
  {
   "cell_type": "markdown",
   "metadata": {},
   "source": [
    "Once we have developed our stopping criterion function, we can create an instance of the `Simulation` class passing a couple of arguments, load a dataset, and run the simulation to check how our algorithm goes."
   ]
  },
  {
   "cell_type": "code",
   "execution_count": null,
   "metadata": {},
   "outputs": [],
   "source": [
    "# Creating a Simulator object\n",
    "simulator = Simulator(\n",
    "    tick_duration=1,\n",
    "    tick_unit=\"seconds\",\n",
    "    stopping_criterion=stopping_criterion,\n",
    "    resource_management_algorithm=my_algorithm,\n",
    ")\n",
    "\n",
    "# Loading a sample dataset from GitHub\n",
    "simulator.initialize(input_file=\"https://raw.githubusercontent.com/EdgeSimPy/edgesimpy-tutorials/master/datasets/sample_dataset1.json\")\n",
    "\n",
    "# Executing the simulation\n",
    "simulator.run_model()"
   ]
  }
 ],
 "metadata": {
  "kernelspec": {
   "display_name": "Python 3.10.4 ('edgesimpy-tutorials-QsXmQ38W-py3.10')",
   "language": "python",
   "name": "python3"
  },
  "language_info": {
   "codemirror_mode": {
    "name": "ipython",
    "version": 3
   },
   "file_extension": ".py",
   "mimetype": "text/x-python",
   "name": "python",
   "nbconvert_exporter": "python",
   "pygments_lexer": "ipython3",
   "version": "3.10.4"
  },
  "orig_nbformat": 4,
  "vscode": {
   "interpreter": {
    "hash": "50cb211c4021f4a25a142368b69ce4d994f94aff73dc90314b4ffb0c06ad024a"
   }
  }
 },
 "nbformat": 4,
 "nbformat_minor": 2
}
