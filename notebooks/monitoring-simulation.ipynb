{
 "cells": [
  {
   "cell_type": "markdown",
   "metadata": {},
   "source": [
    "# Monitoring EdgeSimPy Simulations\n",
    "\n",
    "In-depth data analysis is vital in simulation-based research. Considering this, EdgeSimPy incorporates a robust monitoring mechanism that collects a large amount of information about the simulated entities at each time step, enabling a deep understanding of the phenomena occurred during the simulation.\n",
    "\n",
    "Rather than using traditional formats for storing monitoring data, EdgeSimPy uses [MessagePack](https://msgpack.org/), an efficient serialization format. In a nutshell, MessagePack is like JSON but faster and smaller. While MessagePack raw files are binary, we can convert them to Python dictionaries and Pandas data frames with a simple command. By adopting MessagePack for storing logs, EdgeSimPy can collect a large amount of data without sacrificing the simulation performance or consuming computational resources excessively.\n",
    "\n",
    "This notebook overviews how we can retrieve monitored data in EdgeSimPy. In addition, it shows how to instruct EdgeSimpy to collect custom metrics."
   ]
  },
  {
   "cell_type": "markdown",
   "metadata": {},
   "source": [
    "## Running the Simulation\n",
    "\n",
    "As the primary goal of this notebook is detailing EdgeSimPy monitoring, we will not dive into how to configure a simulation on EdgeSimPy. Instead, we will use a simple scenario described in [this notebook](https://github.com/EdgeSimPy/edgesimpy-tutorials/blob/master/notebooks/creating-placement-algorithm.ipynb).\n",
    "\n",
    "Rather than saving logs to disk at each time step, EdgeSimPy dumps monitoring data to disk at fixed time step intervals. We can set up this disk dump interval through the `dump_interval`, which is set when creating an instance of the `Simulator` class. For example, if we set `dump_interval=10`, EdgeSimPy will store the logs on disk every ten simulation time steps.\n",
    "\n",
    "By default, simulation logs are stored in the `logs` directory (we don't need to create such a directory. EdgeSimPy will do that automatically). If we don't want to save log files on disk, we can set `dump_interval=float(\"inf\")`.\n",
    "\n",
    "Let's go ahead and set up the simulation, instructing EdgeSimPy to dump log data to disk each five simulation time steps."
   ]
  },
  {
   "cell_type": "code",
   "execution_count": null,
   "metadata": {},
   "outputs": [],
   "source": [
    "# Downloading EdgeSimPy binaries from GitHub (the \"-q\" parameter suppresses Pip's output. You check the full logs by removing it)\n",
    "!pip install -q git+https://github.com/EdgeSimPy/EdgeSimPy.git@v1.0.0\n",
    "\n",
    "# Importing EdgeSimPy components\n",
    "from edge_sim_py import *\n",
    "\n",
    "# Importing Python libraries\n",
    "import os\n",
    "import random\n",
    "import msgpack\n",
    "import pandas as pd"
   ]
  },
  {
   "cell_type": "code",
   "execution_count": null,
   "metadata": {},
   "outputs": [],
   "source": [
    "def my_algorithm(parameters):\n",
    "    # We can always call the 'all()' method to get a list with all created instances of a given class\n",
    "    for service in Service.all():\n",
    "        # We don't want to migrate services are are already being migrated\n",
    "        if service.server == None and not service.being_provisioned:\n",
    "\n",
    "            # Let's iterate over the list of edge servers to find a suitable host for our service\n",
    "            for edge_server in EdgeServer.all():\n",
    "\n",
    "                # We must check if the edge server has enough resources to host the service\n",
    "                if edge_server.has_capacity_to_host(service=service):\n",
    "\n",
    "                    # Start provisioning the service in the edge server\n",
    "                    service.provision(target_server=edge_server)\n",
    "\n",
    "                    # After start migrating the service we can move on to the next service\n",
    "                    break\n",
    "\n",
    "\n",
    "def stopping_criterion(model: object):\n",
    "    # Defining a variable that will help us to count the number of services successfully provisioned within the infrastructure\n",
    "    provisioned_services = 0\n",
    "    \n",
    "    # Iterating over the list of services to count the number of services provisioned within the infrastructure\n",
    "    for service in Service.all():\n",
    "\n",
    "        # Initially, services are not hosted by any server (i.e., their \"server\" attribute is None).\n",
    "        # Once that value changes, we know that it has been successfully provisioned inside an edge server.\n",
    "        if service.server != None:\n",
    "            provisioned_services += 1\n",
    "    \n",
    "    # As EdgeSimPy will halt the simulation whenever this function returns True, its output will be a boolean expression\n",
    "    # that checks if the number of provisioned services equals to the number of services spawned in our simulation\n",
    "    return provisioned_services == Service.count()"
   ]
  },
  {
   "cell_type": "code",
   "execution_count": null,
   "metadata": {},
   "outputs": [],
   "source": [
    "# Creating a Simulator object\n",
    "simulator = Simulator(\n",
    "    dump_interval=5,\n",
    "    tick_duration=1,\n",
    "    tick_unit=\"seconds\",\n",
    "    stopping_criterion=stopping_criterion,\n",
    "    resource_management_algorithm=my_algorithm,\n",
    ")\n",
    "\n",
    "# Loading a sample dataset from GitHub\n",
    "simulator.initialize(input_file=\"https://raw.githubusercontent.com/EdgeSimPy/edgesimpy-tutorials/master/datasets/sample_dataset2.json\")\n",
    "\n",
    "# Executing the simulation\n",
    "simulator.run_model()"
   ]
  },
  {
   "cell_type": "markdown",
   "metadata": {},
   "source": [
    "## Checking Logs\n",
    "\n",
    "There are two ways we can access the simulation logs generated by EdgeSimPy:\n",
    "- **Option 1:** Accessing the variables that store the logs directly.\n",
    "- **Option 2:** Accessing log files stored on disk.\n",
    "\n",
    "> Please notice that whenever EdgeSimPy dumps simulation logs to the disk, it resets the simulation variables that stored that data to avoid excessive memory usage. If you want to access the log variables directly, do not forget to set dump_interval=float(\"inf\")."
   ]
  },
  {
   "cell_type": "markdown",
   "metadata": {},
   "source": [
    "### Option 1 (Accessing Variables Directly)\n",
    "\n",
    "We can access the simulation logs through the `agent_metrics` attribute of our instance of the `Simulator` class. As this attribute stores logs of all entities in the simulation, let's get only the user logs."
   ]
  },
  {
   "cell_type": "code",
   "execution_count": null,
   "metadata": {},
   "outputs": [],
   "source": [
    "simulator.agent_metrics[\"User\"]"
   ]
  },
  {
   "cell_type": "markdown",
   "metadata": {},
   "source": [
    "### Option 2 (Accessing Log Files)\n",
    "\n",
    "In the cell below, we use the built-in functions of Python's `os` module to find all the MessagePack files created by EdgeSimPy with the simulation logs. Once we know where the MessagePack files are, we can read these files and convert them to Pandas data frames."
   ]
  },
  {
   "cell_type": "code",
   "execution_count": null,
   "metadata": {},
   "outputs": [],
   "source": [
    "# Gathering the list of msgpack files in the current directory\n",
    "logs_directory = f\"{os.getcwd()}/logs\"\n",
    "dataset_files = [file for file in os.listdir(logs_directory) if \".msgpack\" in file]\n",
    "\n",
    "# Reading msgpack files found\n",
    "datasets = {}\n",
    "for file in dataset_files:\n",
    "    with open(f\"logs/{file}\", \"rb\") as data_file:\n",
    "        datasets[file.replace(\".msgpack\", \"\")] = pd.DataFrame(msgpack.unpackb(data_file.read(), strict_map_key=False))"
   ]
  },
  {
   "cell_type": "markdown",
   "metadata": {},
   "source": [
    "Now we have all the simulation logs stored in Pandas data frames. To check the format of these files, let's access the edge server logs:"
   ]
  },
  {
   "cell_type": "code",
   "execution_count": null,
   "metadata": {},
   "outputs": [],
   "source": [
    "datasets[\"EdgeServer\"]"
   ]
  },
  {
   "cell_type": "markdown",
   "metadata": {},
   "source": [
    "As EdgeSimPy stores a large amount of data for each entity, we can retrieve only information we are interested in through the Pandas `filter()` method."
   ]
  },
  {
   "cell_type": "code",
   "execution_count": null,
   "metadata": {},
   "outputs": [],
   "source": [
    "# Defining the data frame columns that will be exhibited\n",
    "properties = ['Coordinates', 'CPU Demand', 'RAM Demand', 'Disk Demand', 'Services']\n",
    "columns = ['Time Step', 'Instance ID'] + properties\n",
    "\n",
    "dataframe = datasets[\"EdgeServer\"].filter(items=columns)\n",
    "dataframe"
   ]
  },
  {
   "cell_type": "markdown",
   "metadata": {},
   "source": [
    "## Monitoring Custom Metrics\n",
    "\n",
    "Although EdgeSimPy collects a large amount of data from the simulated entities, we may need to monitor custom metrics. We can do that by extending the `collect()` method, which is present in all EdgeSimPy entities.\n",
    "\n",
    "If our custom metric involves data from multiple entities, we can collect it by extending the `collect()` method of the `Simulator` class. Otherwise, we can customize the `collect()` method of a specific entity.\n",
    "\n",
    "In this example, let's extend the `collect()` method of the `NetworkSwitch` class, adding a sample metric called `temperature`, which is generated randomly at each simulation time step. More specifically, let's add a new key to the `metrics` dictionary exported by the `collect()` method with our new metric.\n",
    "\n",
    "> Please notice that changing any existing information in the `collect()` method will affect the set of logs collected by EdgeSimPy."
   ]
  },
  {
   "cell_type": "code",
   "execution_count": null,
   "metadata": {},
   "outputs": [],
   "source": [
    "def custom_collect_method(self) -> dict:\n",
    "    temperature = random.randint(10, 50)  # Generating a random integer between 10 and 50 representing the switch's temperature\n",
    "    metrics = {\n",
    "        \"Instance ID\": self.id,\n",
    "        \"Power Consumption\": self.get_power_consumption(),\n",
    "        \"Temperature\": temperature,\n",
    "    }\n",
    "    return metrics\n",
    "\n",
    "# Overriding the NetworkSwitch's collect() method\n",
    "NetworkSwitch.collect = custom_collect_method"
   ]
  },
  {
   "cell_type": "markdown",
   "metadata": {},
   "source": [
    "Now that we've extended the `collect()` method to get the temperature of the network switches at each simulation time step, let's create a new simulation and check the logs."
   ]
  },
  {
   "cell_type": "code",
   "execution_count": null,
   "metadata": {},
   "outputs": [],
   "source": [
    "# Creating a Simulator object\n",
    "simulator = Simulator(\n",
    "    dump_interval=5,\n",
    "    tick_duration=1,\n",
    "    tick_unit=\"seconds\",\n",
    "    stopping_criterion=stopping_criterion,\n",
    "    resource_management_algorithm=my_algorithm,\n",
    ")\n",
    "\n",
    "# Loading a sample dataset from GitHub\n",
    "simulator.initialize(input_file=\"https://raw.githubusercontent.com/EdgeSimPy/edgesimpy-tutorials/master/datasets/sample_dataset2.json\")\n",
    "\n",
    "# Executing the simulation\n",
    "simulator.run_model()\n",
    "\n",
    "# Creating a Pandas data frame with the network switch logs\n",
    "logs = pd.DataFrame(simulator.agent_metrics[\"NetworkSwitch\"])\n",
    "logs"
   ]
  }
 ],
 "metadata": {
  "kernelspec": {
   "display_name": "Python 3.7.13 ('edgesimpy-tutorials-QsXmQ38W-py3.7')",
   "language": "python",
   "name": "python3"
  },
  "language_info": {
   "codemirror_mode": {
    "name": "ipython",
    "version": 3
   },
   "file_extension": ".py",
   "mimetype": "text/x-python",
   "name": "python",
   "nbconvert_exporter": "python",
   "pygments_lexer": "ipython3",
   "version": "3.7.13"
  },
  "orig_nbformat": 4,
  "vscode": {
   "interpreter": {
    "hash": "8e56f9e8307d419200e0ec5f07c96d552ef10326b5fa2fe2192f2b2e1352b33e"
   }
  }
 },
 "nbformat": 4,
 "nbformat_minor": 2
}
