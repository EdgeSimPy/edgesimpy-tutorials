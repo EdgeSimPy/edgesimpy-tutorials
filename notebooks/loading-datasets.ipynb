{
 "cells": [
  {
   "cell_type": "markdown",
   "metadata": {},
   "source": [
    "# Loading Datasets\n",
    "\n",
    "One of the first things you need to know to dive into the EdgeSimPy universe is to load datasets. Once you understand how EdgeSimPy loads data, you can use existing datasets or even build your own simulated scenarios to prototype resource management strategies. This tutorial will guide you through the different ways of loading data supported by EdgeSimPy.\n",
    "\n",
    "Before digging into EdgeSimPy's load dataset features, we must load the simulator modules. We can do that with the following command:"
   ]
  },
  {
   "cell_type": "code",
   "execution_count": null,
   "metadata": {},
   "outputs": [],
   "source": [
    "# Downloading EdgeSimPy binaries from GitHub (the \"-q\" parameter suppresses Pip's output. You check the full logs by removing it)\n",
    "!pip install -q git+https://github.com/EdgeSimPy/EdgeSimPy.git@v1.0.0\n",
    "\n",
    "# Importing EdgeSimPy components\n",
    "from edge_sim_py import *"
   ]
  },
  {
   "cell_type": "markdown",
   "metadata": {},
   "source": [
    "## Loading Datasets from URLs\n",
    "\n",
    "With the rise of open science and reproducibility, researchers are increasingly publishing online the research artifacts of their papers. Considering that, EdgeSimPy allows you to load datasets through public URLs without burden.\n",
    "\n",
    "To load external datasets into EdgeSimPy, we simply need to call the `initialize()` method informing the dataset's URL in the `input_file` attribute, as shown below.\n"
   ]
  },
  {
   "cell_type": "code",
   "execution_count": null,
   "metadata": {},
   "outputs": [],
   "source": [
    "# Creating a Simulator object\n",
    "simulator = Simulator()\n",
    "\n",
    "# Loading the dataset file from the external JSON file\n",
    "simulator.initialize(input_file=\"https://raw.githubusercontent.com/EdgeSimPy/edgesimpy-tutorials/master/datasets/sample_dataset1.json\")\n",
    "\n",
    "# Displaying some of the objects loaded from the dataset\n",
    "for user in User.all():\n",
    "    print(f\"{user}. Coordinates: {user.coordinates}\")"
   ]
  },
  {
   "cell_type": "markdown",
   "metadata": {},
   "source": [
    "## Loading Datasets from Local Files\n",
    "\n",
    "EdgeSimPy also facilitates loading data from local dataset files. In this case, we just need to call the `initialize()` method, passing the location of the local dataset file in the `input_file` attribute.\n",
    "\n",
    "EdgeSimPy automatically identifies both absolute paths (e.g., `/home/user/my_research/dataset.json`) and relative paths (e.g., `my_research/dataset.json`). In the code below, EdgeSimPy loads a dataset from a local file called `dataset.json`.\n",
    "\n",
    "Please notice that we must download the `dataset.json` file before calling the `initialize()` method, or it will not work.\n"
   ]
  },
  {
   "cell_type": "code",
   "execution_count": null,
   "metadata": {},
   "outputs": [],
   "source": [
    "!curl https://raw.githubusercontent.com/EdgeSimPy/edgesimpy-tutorials/master/datasets/sample_dataset1.json --output dataset.json\n",
    "\n",
    "# Creating a Simulator object\n",
    "simulator = Simulator()\n",
    "\n",
    "# Loading the dataset from the local \"dataset.json\" file\n",
    "simulator.initialize(input_file=\"dataset.json\")\n",
    "\n",
    "# Displaying some of the objects loaded from the dataset\n",
    "for edge_server in EdgeServer.all():\n",
    "    print(f\"{edge_server}. CPU Capacity: {edge_server.cpu} cores\")"
   ]
  },
  {
   "cell_type": "markdown",
   "metadata": {},
   "source": [
    "## Loading Datasets from Python Dictionaries\n",
    "\n",
    "In addition to allowing us to load datasets from external and local files written in JSON format, EdgeSimPy also reads datasets encoded as Python dictionaries. To use that feature, we just need to pass a valid Python dictionary to the `input_file` attribute of the `initialize()` method. In the example below, EdgeSimPy reads a dataset from a Python dictionary containing a couple of users. For simplicity, users only have two attributes: `id` and `coordinates`—regular `User` objects would have other attributes.\n"
   ]
  },
  {
   "cell_type": "code",
   "execution_count": null,
   "metadata": {},
   "outputs": [],
   "source": [
    "# Creating a Python dictionary representing a sample dataset with a couple of users\n",
    "my_simplified_dataset = {\n",
    "    \"User\": [\n",
    "        {\n",
    "            \"attributes\": {\n",
    "                \"id\": 1,\n",
    "                \"coordinates\": [\n",
    "                    1,\n",
    "                    1\n",
    "                ]\n",
    "            },\n",
    "            \"relationships\": {}\n",
    "        },\n",
    "        {\n",
    "            \"attributes\": {\n",
    "                \"id\": 2,\n",
    "                \"coordinates\": [\n",
    "                    3,\n",
    "                    3\n",
    "                ]\n",
    "            },\n",
    "            \"relationships\": {}\n",
    "        },\n",
    "        {\n",
    "            \"attributes\": {\n",
    "                \"id\": 3,\n",
    "                \"coordinates\": [\n",
    "                    5,\n",
    "                    1\n",
    "                ]\n",
    "            },\n",
    "            \"relationships\": {}\n",
    "        },\n",
    "        {\n",
    "            \"attributes\": {\n",
    "                \"id\": 4,\n",
    "                \"coordinates\": [\n",
    "                    0,\n",
    "                    0\n",
    "                ]\n",
    "            },\n",
    "            \"relationships\": {}\n",
    "        }\n",
    "    ]\n",
    "}\n",
    "\n",
    "# Creating a Simulator object\n",
    "simulator = Simulator()\n",
    "\n",
    "# Loading the dataset from the dictionary \"my_simplified_dataset\"\n",
    "simulator.initialize(input_file=my_simplified_dataset)\n",
    "\n",
    "# Displaying the objects loaded from the dataset\n",
    "for user in User.all():\n",
    "    print(f\"{user}. Coordinates: {user.coordinates}\")"
   ]
  }
 ],
 "metadata": {
  "kernelspec": {
   "display_name": "Python 3.10.4 ('edgesimpy-tutorials-QsXmQ38W-py3.10')",
   "language": "python",
   "name": "python3"
  },
  "language_info": {
   "codemirror_mode": {
    "name": "ipython",
    "version": 3
   },
   "file_extension": ".py",
   "mimetype": "text/x-python",
   "name": "python",
   "nbconvert_exporter": "python",
   "pygments_lexer": "ipython3",
   "version": "3.10.4"
  },
  "orig_nbformat": 4,
  "vscode": {
   "interpreter": {
    "hash": "50cb211c4021f4a25a142368b69ce4d994f94aff73dc90314b4ffb0c06ad024a"
   }
  }
 },
 "nbformat": 4,
 "nbformat_minor": 2
}
