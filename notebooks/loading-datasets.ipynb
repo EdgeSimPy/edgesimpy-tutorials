{
 "cells": [
  {
   "cell_type": "markdown",
   "metadata": {},
   "source": [
    "# Loading Datasets\n",
    "\n",
    "One of the first things you need to know to dive into the EdgeSimPy universe is to load datasets. Once you understand how EdgeSimPy loads data, you can use existing datasets or even build your own simulated scenarios to prototype resource management strategies. This tutorial will guide you through the different ways of loading data supported by EdgeSimPy.\n",
    "\n",
    "Before digging into EdgeSimPy's load dataset features, we must load the simulator modules. We can do that with the following command:"
   ]
  },
  {
   "cell_type": "code",
   "execution_count": null,
   "metadata": {},
   "outputs": [],
   "source": [
    "try:\n",
    "    # Importing EdgeSimPy components\n",
    "    from edge_sim_py import *\n",
    "    import networkx as nx\n",
    "    import msgpack\n",
    "\n",
    "    # Importing Matplotlib, Pandas, and NumPy for logs parsing and visualization\n",
    "    import matplotlib.pyplot as plt\n",
    "    import pandas as pd\n",
    "    import numpy as np\n",
    "\n",
    "except ModuleNotFoundError:\n",
    "    # Downloading EdgeSimPy binaries from GitHub (the \"-q\" parameter suppresses Pip's output. You check the full logs by removing it)\n",
    "    %pip install -q git+https://github.com/EdgeSimPy/EdgeSimPy.git\n",
    "\n",
    "    # Downloading Pandas, NumPy, and Matplotlib (these are not directly used here, but they can be useful for logs parsing and visualization)\n",
    "    %pip install -q pandas\n",
    "    %pip install -q numpy\n",
    "    %pip install -q matplotlib\n",
    "\n",
    "    # Importing EdgeSimPy components and its built-in libraries (NetworkX and MessagePack)\n",
    "    from edge_sim_py import *\n",
    "    import networkx as nx\n",
    "    import msgpack\n",
    "\n",
    "    # Importing Matplotlib, Pandas, and NumPy for logs parsing and visualization\n",
    "    import matplotlib.pyplot as plt\n",
    "    import pandas as pd\n",
    "    import numpy as np"
   ]
  },
  {
   "cell_type": "markdown",
   "metadata": {},
   "source": [
    "## Loading Datasets from URLs\n",
    "\n",
    "With the rise of open science and reproducibility, researchers are increasingly publishing online the research artifacts of their papers. Considering that, EdgeSimPy allows you to load datasets through public URLs without burden.\n",
    "\n",
    "To load external datasets into EdgeSimPy, we simply need to call the `initialize()` method informing the dataset's URL in the `input_file` attribute, as shown below.\n"
   ]
  },
  {
   "cell_type": "code",
   "execution_count": 2,
   "metadata": {},
   "outputs": [
    {
     "name": "stdout",
     "output_type": "stream",
     "text": [
      "User_1. Coordinates: [6, 0]\n",
      "User_2. Coordinates: [3, 1]\n",
      "User_3. Coordinates: [2, 2]\n",
      "User_4. Coordinates: [6, 0]\n",
      "User_5. Coordinates: [4, 2]\n",
      "User_6. Coordinates: [3, 3]\n"
     ]
    }
   ],
   "source": [
    "# Creating a Simulator object\n",
    "simulator = Simulator()\n",
    "\n",
    "# Loading the dataset file from the external JSON file\n",
    "simulator.initialize(input_file=\"https://raw.githubusercontent.com/EdgeSimPy/edgesimpy-tutorials/master/datasets/sample_dataset1.json\")\n",
    "\n",
    "# Displaying some of the objects loaded from the dataset\n",
    "for user in User.all():\n",
    "    print(f\"{user}. Coordinates: {user.coordinates}\")"
   ]
  },
  {
   "cell_type": "markdown",
   "metadata": {},
   "source": [
    "## Loading Datasets from Local Files\n",
    "\n",
    "EdgeSimPy also facilitates loading data from local dataset files. In this case, we just need to call the `initialize()` method, passing the location of the local dataset file in the `input_file` attribute.\n",
    "\n",
    "EdgeSimPy automatically identifies both absolute paths (e.g., `/home/user/my_research/dataset.json`) and relative paths (e.g., `my_research/dataset.json`). In the code below, EdgeSimPy loads a dataset from a local file called `dataset.json`.\n",
    "\n",
    "Please notice that we must download the `dataset.json` file before calling the `initialize()` method, or it will not work.\n"
   ]
  },
  {
   "cell_type": "code",
   "execution_count": 3,
   "metadata": {},
   "outputs": [
    {
     "name": "stdout",
     "output_type": "stream",
     "text": [
      "  % Total    % Received % Xferd  Average Speed   Time    Time     Time  Current\n",
      "                                 Dload  Upload   Total   Spent    Left  Speed\n",
      "100  142k  100  142k    0     0   750k      0 --:--:-- --:--:-- --:--:--  752k\n",
      "EdgeServer_1. CPU Capacity: 8 cores\n",
      "EdgeServer_2. CPU Capacity: 8 cores\n",
      "EdgeServer_3. CPU Capacity: 8 cores\n",
      "EdgeServer_4. CPU Capacity: 8 cores\n",
      "EdgeServer_5. CPU Capacity: 12 cores\n",
      "EdgeServer_6. CPU Capacity: 12 cores\n"
     ]
    }
   ],
   "source": [
    "!curl https://raw.githubusercontent.com/EdgeSimPy/edgesimpy-tutorials/master/datasets/sample_dataset1.json --output dataset.json\n",
    "\n",
    "# Creating a Simulator object\n",
    "simulator = Simulator()\n",
    "\n",
    "# Loading the dataset from the local \"dataset.json\" file\n",
    "simulator.initialize(input_file=\"dataset.json\")\n",
    "\n",
    "# Displaying some of the objects loaded from the dataset\n",
    "for edge_server in EdgeServer.all():\n",
    "    print(f\"{edge_server}. CPU Capacity: {edge_server.cpu} cores\")"
   ]
  },
  {
   "cell_type": "markdown",
   "metadata": {},
   "source": [
    "## Loading Datasets from Python Dictionaries\n",
    "\n",
    "In addition to allowing us to load datasets from external and local files written in JSON format, EdgeSimPy also reads datasets encoded as Python dictionaries. To use that feature, we just need to pass a valid Python dictionary to the `input_file` attribute of the `initialize()` method. In the example below, EdgeSimPy reads a dataset from a Python dictionary containing a couple of users. For simplicity, users only have two attributes: `id` and `coordinates`—regular `User` objects would have other attributes.\n"
   ]
  },
  {
   "cell_type": "code",
   "execution_count": 4,
   "metadata": {},
   "outputs": [
    {
     "name": "stdout",
     "output_type": "stream",
     "text": [
      "User_1. Coordinates: [1, 1]\n",
      "User_2. Coordinates: [3, 3]\n",
      "User_3. Coordinates: [5, 1]\n",
      "User_4. Coordinates: [0, 0]\n"
     ]
    }
   ],
   "source": [
    "# Creating a Python dictionary representing a sample dataset with a couple of users\n",
    "my_simplified_dataset = {\n",
    "    \"User\": [\n",
    "        {\n",
    "            \"attributes\": {\n",
    "                \"id\": 1,\n",
    "                \"coordinates\": [\n",
    "                    1,\n",
    "                    1\n",
    "                ]\n",
    "            },\n",
    "            \"relationships\": {}\n",
    "        },\n",
    "        {\n",
    "            \"attributes\": {\n",
    "                \"id\": 2,\n",
    "                \"coordinates\": [\n",
    "                    3,\n",
    "                    3\n",
    "                ]\n",
    "            },\n",
    "            \"relationships\": {}\n",
    "        },\n",
    "        {\n",
    "            \"attributes\": {\n",
    "                \"id\": 3,\n",
    "                \"coordinates\": [\n",
    "                    5,\n",
    "                    1\n",
    "                ]\n",
    "            },\n",
    "            \"relationships\": {}\n",
    "        },\n",
    "        {\n",
    "            \"attributes\": {\n",
    "                \"id\": 4,\n",
    "                \"coordinates\": [\n",
    "                    0,\n",
    "                    0\n",
    "                ]\n",
    "            },\n",
    "            \"relationships\": {}\n",
    "        }\n",
    "    ]\n",
    "}\n",
    "\n",
    "# Creating a Simulator object\n",
    "simulator = Simulator()\n",
    "\n",
    "# Loading the dataset from the dictionary \"my_simplified_dataset\"\n",
    "simulator.initialize(input_file=my_simplified_dataset)\n",
    "\n",
    "# Displaying the objects loaded from the dataset\n",
    "for user in User.all():\n",
    "    print(f\"{user}. Coordinates: {user.coordinates}\")"
   ]
  }
 ],
 "metadata": {
  "kernelspec": {
   "display_name": "edgesimpy-tutorials-xdN3S-F5-py3.10",
   "language": "python",
   "name": "python3"
  },
  "language_info": {
   "codemirror_mode": {
    "name": "ipython",
    "version": 3
   },
   "file_extension": ".py",
   "mimetype": "text/x-python",
   "name": "python",
   "nbconvert_exporter": "python",
   "pygments_lexer": "ipython3",
   "version": "3.10.16"
  },
  "orig_nbformat": 4
 },
 "nbformat": 4,
 "nbformat_minor": 2
}
