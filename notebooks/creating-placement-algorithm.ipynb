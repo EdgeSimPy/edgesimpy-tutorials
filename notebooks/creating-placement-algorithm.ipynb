{
 "cells": [
  {
   "cell_type": "markdown",
   "metadata": {},
   "source": [
    "# Creating a Placement Algorithm\n",
    "\n",
    "This tutorial demonstrates how we can create a simple placement algorithm on EdgeSimPy.\n",
    "\n",
    "Let's start by importing the EdgeSimPy modules:"
   ]
  },
  {
   "cell_type": "code",
   "execution_count": 1,
   "metadata": {},
   "outputs": [],
   "source": [
    "try:\n",
    "    # Importing EdgeSimPy components\n",
    "    from edge_sim_py import *\n",
    "    import networkx as nx\n",
    "    import msgpack\n",
    "\n",
    "    # Importing Matplotlib, Pandas, and NumPy for logs parsing and visualization\n",
    "    import matplotlib.pyplot as plt\n",
    "    import pandas as pd\n",
    "    import numpy as np\n",
    "\n",
    "except ModuleNotFoundError:\n",
    "    # Downloading EdgeSimPy binaries from GitHub (the \"-q\" parameter suppresses Pip's output. You check the full logs by removing it)\n",
    "    %pip install -q git+https://github.com/EdgeSimPy/EdgeSimPy.git\n",
    "\n",
    "    # Downloading Pandas, NumPy, and Matplotlib (these are not directly used here, but they can be useful for logs parsing and visualization)\n",
    "    %pip install -q pandas\n",
    "    %pip install -q numpy\n",
    "    %pip install -q matplotlib\n",
    "\n",
    "    # Importing EdgeSimPy components and its built-in libraries (NetworkX and MessagePack)\n",
    "    from edge_sim_py import *\n",
    "    import networkx as nx\n",
    "    import msgpack\n",
    "\n",
    "    # Importing Matplotlib, Pandas, and NumPy for logs parsing and visualization\n",
    "    import matplotlib.pyplot as plt\n",
    "    import pandas as pd\n",
    "    import numpy as np"
   ]
  },
  {
   "cell_type": "markdown",
   "metadata": {},
   "source": [
    "## Implementing the Placement Algorithm\n",
    "\n",
    "In this example, we are going to create a simple placement algorithm that works according to the well-known First-Fit heuristic. In a nutshell, our algorithm will provision each service to the first edge server with available resources to host them."
   ]
  },
  {
   "cell_type": "code",
   "execution_count": 2,
   "metadata": {},
   "outputs": [],
   "source": [
    "def my_algorithm(parameters):\n",
    "    # We can always call the 'all()' method to get a list with all created instances of a given class\n",
    "    for service in Service.all():\n",
    "        # We don't want to migrate services are are already being migrated\n",
    "        if service.server == None and not service.being_provisioned:\n",
    "\n",
    "            # Let's iterate over the list of edge servers to find a suitable host for our service\n",
    "            for edge_server in EdgeServer.all():\n",
    "                \n",
    "                # We must check if the edge server has enough resources to host the service\n",
    "                if edge_server.has_capacity_to_host(service=service):\n",
    "                    \n",
    "                    # Start provisioning the service in the edge server\n",
    "                    service.provision(target_server=edge_server)\n",
    "                    \n",
    "                    # After start migrating the service we can move on to the next service\n",
    "                    break"
   ]
  },
  {
   "cell_type": "markdown",
   "metadata": {},
   "source": [
    "## Running the Simulation\n",
    "\n",
    "As we're creating a placement algorithm, we must instruct EdgeSimPy that it needs to continue the simulation until all services are provisioned within the infrastructure.\n",
    "\n",
    "To do so, let's create a simple function that will be used as the simulation's stopping criterion. EdgeSimPy will run that function at the end of each time step, halting the simulation as soon as it returns `True`."
   ]
  },
  {
   "cell_type": "code",
   "execution_count": 3,
   "metadata": {},
   "outputs": [],
   "source": [
    "def stopping_criterion(model: object):\n",
    "    # Defining a variable that will help us to count the number of services successfully provisioned within the infrastructure\n",
    "    provisioned_services = 0\n",
    "    \n",
    "    # Iterating over the list of services to count the number of services provisioned within the infrastructure\n",
    "    for service in Service.all():\n",
    "\n",
    "        # Initially, services are not hosted by any server (i.e., their \"server\" attribute is None).\n",
    "        # Once that value changes, we know that it has been successfully provisioned inside an edge server.\n",
    "        if service.server != None:\n",
    "            provisioned_services += 1\n",
    "    \n",
    "    # As EdgeSimPy will halt the simulation whenever this function returns True, its output will be a boolean expression\n",
    "    # that checks if the number of provisioned services equals to the number of services spawned in our simulation\n",
    "    return provisioned_services == Service.count()"
   ]
  },
  {
   "cell_type": "markdown",
   "metadata": {},
   "source": [
    "Once we have our stopping criterion, we can finally run our simulation by creating an instance of the `Simulator` class, loading a dataset, and calling the `run_model()` method."
   ]
  },
  {
   "cell_type": "code",
   "execution_count": 4,
   "metadata": {},
   "outputs": [
    {
     "name": "stdout",
     "output_type": "stream",
     "text": [
      "Service_1. Host: EdgeServer_1\n",
      "Service_2. Host: EdgeServer_1\n",
      "Service_3. Host: EdgeServer_1\n",
      "Service_4. Host: EdgeServer_1\n",
      "Service_5. Host: EdgeServer_1\n",
      "Service_6. Host: EdgeServer_1\n"
     ]
    }
   ],
   "source": [
    "\n",
    "# Creating a Simulator object\n",
    "simulator = Simulator(\n",
    "    tick_duration=1,\n",
    "    tick_unit=\"seconds\",\n",
    "    stopping_criterion=stopping_criterion,\n",
    "    resource_management_algorithm=my_algorithm,\n",
    ")\n",
    "\n",
    "# Loading a sample dataset from GitHub\n",
    "simulator.initialize(input_file=\"https://raw.githubusercontent.com/EdgeSimPy/edgesimpy-tutorials/master/datasets/sample_dataset2.json\")\n",
    "\n",
    "# Executing the simulation\n",
    "simulator.run_model()\n",
    "\n",
    "# Checking the placement output\n",
    "for service in Service.all():\n",
    "    print(f\"{service}. Host: {service.server}\")"
   ]
  }
 ],
 "metadata": {
  "kernelspec": {
   "display_name": "edgesimpy-tutorials-xdN3S-F5-py3.10",
   "language": "python",
   "name": "python3"
  },
  "language_info": {
   "codemirror_mode": {
    "name": "ipython",
    "version": 3
   },
   "file_extension": ".py",
   "mimetype": "text/x-python",
   "name": "python",
   "nbconvert_exporter": "python",
   "pygments_lexer": "ipython3",
   "version": "3.10.16"
  },
  "orig_nbformat": 4
 },
 "nbformat": 4,
 "nbformat_minor": 2
}
